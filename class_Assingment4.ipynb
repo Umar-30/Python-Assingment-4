{
  "nbformat": 4,
  "nbformat_minor": 0,
  "metadata": {
    "colab": {
      "provenance": [],
      "authorship_tag": "ABX9TyOG6BDf70L7w9bLsURJc2oq",
      "include_colab_link": true
    },
    "kernelspec": {
      "name": "python3",
      "display_name": "Python 3"
    },
    "language_info": {
      "name": "python"
    }
  },
  "cells": [
    {
      "cell_type": "markdown",
      "metadata": {
        "id": "view-in-github",
        "colab_type": "text"
      },
      "source": [
        "<a href=\"https://colab.research.google.com/github/Umar-30/Python-Assingment-4/blob/main/class_Assingment4.ipynb\" target=\"_parent\"><img src=\"https://colab.research.google.com/assets/colab-badge.svg\" alt=\"Open In Colab\"/></a>"
      ]
    },
    {
      "cell_type": "markdown",
      "source": [
        "# **List Methods Practice**\n",
        "**Task: 1 Create and Modify Lists**"
      ],
      "metadata": {
        "id": "sKqPBZmFJAmQ"
      }
    },
    {
      "cell_type": "code",
      "source": [
        "fruits = [\"apple\", \"banana\", \"orange\"]\n",
        "\n",
        "# Add \"grape\" to the end of the list using an appropriate method\n",
        "fruits.append(\"grapes\")\n",
        "print(fruits)\n",
        "\n",
        "# Insert \"mango\" at position 2 in the list\n",
        "fruits.insert(2, \"mango\")\n",
        "print(fruits)\n",
        "\n",
        "#  Remove \"banana\" from the list\n",
        "fruits.remove(\"banana\")\n",
        "print(fruits)\n",
        "\n",
        "# Print the final list\n",
        "print(fruits)\n"
      ],
      "metadata": {
        "colab": {
          "base_uri": "https://localhost:8080/"
        },
        "id": "23z2QBiNJ8FE",
        "outputId": "9e1478e1-d9f2-4fa4-9205-7cd3f8fe69fd"
      },
      "execution_count": null,
      "outputs": [
        {
          "output_type": "stream",
          "name": "stdout",
          "text": [
            "['apple', 'banana', 'orange', 'grapes']\n",
            "['apple', 'banana', 'mango', 'orange', 'grapes']\n",
            "['apple', 'mango', 'orange', 'grapes']\n",
            "['apple', 'mango', 'orange', 'grapes']\n"
          ]
        }
      ]
    },
    {
      "cell_type": "markdown",
      "source": [
        "**Task 2. List Operations**"
      ],
      "metadata": {
        "id": "nYH1HjWNMzDE"
      }
    },
    {
      "cell_type": "code",
      "source": [
        "# Create a list numbers with values: 10, 20, 30, 40, 50\n",
        "numbers = [10, 20, 30, 40, 50]\n",
        "# Create a second list more_numbers with values: 60, 70, 80\n",
        "more_list = [60, 70, 80]\n",
        "# Combine both lists into a new list called all_numbers\n",
        "all_numbers = numbers + more_list\n",
        "print(\"Combine list\", all_numbers)\n",
        "\n",
        "# Make a copy of all_numbers called numbers_copy\n",
        "numbers_copy = all_numbers.copy()\n",
        "print(\"Copy numbers\", numbers_copy)\n",
        "\n",
        "# Reverse the order of numbers_copy\n",
        "numbers_copy.reverse()\n",
        "print(\"Reverse List: \", numbers_copy)\n",
        "\n",
        "# Print both all_numbers and numbers_copy\n",
        "print(\"All_numbers:\", all_numbers)\n",
        "print(\"Numbers_copy:\", numbers_copy)"
      ],
      "metadata": {
        "colab": {
          "base_uri": "https://localhost:8080/"
        },
        "id": "0e5bwRqjM4x_",
        "outputId": "0761d1a9-619c-4705-bc35-4d1e1c8c66c8"
      },
      "execution_count": null,
      "outputs": [
        {
          "output_type": "stream",
          "name": "stdout",
          "text": [
            "Combine list [10, 20, 30, 40, 50, 60, 70, 80]\n",
            "Copy numbers [10, 20, 30, 40, 50, 60, 70, 80]\n",
            "Reverse List:  [80, 70, 60, 50, 40, 30, 20, 10]\n",
            "All_numbers: [10, 20, 30, 40, 50, 60, 70, 80]\n",
            "Numbers_copy: [80, 70, 60, 50, 40, 30, 20, 10]\n"
          ]
        }
      ]
    },
    {
      "cell_type": "markdown",
      "source": [
        "**Task 3. Sorting and Counting**"
      ],
      "metadata": {
        "id": "-y_Pj9MclhwH"
      }
    },
    {
      "cell_type": "code",
      "source": [
        "# Create a list scores with these values: 85, 92, 78, 65, 92, 85, 74\n",
        "scores = [85, 92, 78, 65, 92, 85, 74]\n",
        "# Sort the list in ascending order\n",
        "scores.sort()\n",
        "print(\"Asscending Order:\", scores)\n",
        "\n",
        "# Sort the list in descending order\n",
        "scores.sort(reverse=True)\n",
        "print(\"Decending Order:\" ,scores)\n",
        "\n",
        "# Count how many times 92 appears in the list\n",
        "count_92 = scores.count(92)\n",
        "print(\"Count 92:\", count_92)\n",
        "\n",
        "#  Find and print the highest and lowest scores\n",
        "hightest_score = max(scores)\n",
        "lowest_score = min(scores)\n",
        "print(\"Hightest Score:\", hightest_score)\n",
        "print(\"Lowest Score:\", lowest_score)\n",
        "\n",
        "# Print the sorted list\n",
        "print(\"Sorted List:\", scores)\n"
      ],
      "metadata": {
        "colab": {
          "base_uri": "https://localhost:8080/"
        },
        "id": "-cDCTI3YlttJ",
        "outputId": "8c31ac3a-0cb5-4814-aa94-38b395c10c1e"
      },
      "execution_count": null,
      "outputs": [
        {
          "output_type": "stream",
          "name": "stdout",
          "text": [
            "Asscending Order: [65, 74, 78, 85, 85, 92, 92]\n",
            "Decending Order: [92, 92, 85, 85, 78, 74, 65]\n",
            "Count 92: 2\n",
            "Hightest Score: 92\n",
            "Lowest Score: 65\n",
            "Sorted List: [92, 92, 85, 85, 78, 74, 65]\n"
          ]
        }
      ]
    },
    {
      "cell_type": "markdown",
      "source": [
        "**Task 4. List Manipulation**"
      ],
      "metadata": {
        "id": "H3UQNgycn9Sp"
      }
    },
    {
      "cell_type": "code",
      "source": [
        "# Create a list letters with values: \"a\", \"b\", \"c\", \"d\", \"e\"\n",
        "letters = [\"a\", \"b\", \"c\", \"d\", \"e\"]\n",
        "\n",
        "# Use slicing to create a new list with only the first three letters\n",
        "first_three_letters = letters[:3]\n",
        "print(\"First_three_letters:\", first_three_letters)\n",
        "\n",
        "# Use slicing to create another list with only the last two letters\n",
        "last_two_letters = letters[-2]\n",
        "print(\"Last_two_letters:\", last_two_letters)\n",
        "\n",
        "# Find and print the index of \"c\" in the list\n",
        "letters.index(\"c\")\n",
        "print(\"index of c is:\", letters.index(\"c\"))\n",
        "\n",
        "# Replace \"d\" with \"z\" in the original list\n",
        "letters[3] = \"z\"\n",
        "print(\"Replace Z:\", letters)\n",
        "\n",
        "#  Print the modified list\n",
        "print(\"Modified List:\", letters)\n",
        "\n",
        "\n"
      ],
      "metadata": {
        "colab": {
          "base_uri": "https://localhost:8080/"
        },
        "id": "63UdB3W5oGOS",
        "outputId": "f2c1ef78-efb4-47de-ed9d-3e26dfdbc4d0"
      },
      "execution_count": null,
      "outputs": [
        {
          "output_type": "stream",
          "name": "stdout",
          "text": [
            "First_three_letters: ['a', 'b', 'c']\n",
            "Last_two_letters: d\n",
            "index of c is: 2\n",
            "Replace Z: ['a', 'b', 'c', 'z', 'e']\n",
            "Modified List: ['a', 'b', 'c', 'z', 'e']\n"
          ]
        }
      ]
    },
    {
      "cell_type": "markdown",
      "source": [
        "# **Dictionary Methods Practice**\n",
        " Task 1. Create and Access Dictionaries\n"
      ],
      "metadata": {
        "id": "cWKA-ITmm5Td"
      }
    },
    {
      "cell_type": "code",
      "source": [
        "# Create a dictionary called student with these key-value pairs:\n",
        "student = {\n",
        "    \"name\": \"Shagufta\",\n",
        "    \"age\": 30,\n",
        "    \"grade\": \"A\",\n",
        "    \"course\": [\"Math\",\"Science\",\"History\"]\n",
        "}\n",
        "# Print the student's name\n",
        "print(\"Student Name:\", student['name'])\n",
        "\n",
        "#  Print the list of courses\n",
        "print(\"List of Course:\",student['course'])\n",
        "\n",
        "# Add a new key-value pair: \"email\": \"john@example.com\"\n",
        "student[\"email\"] = \"john@example.com\"\n",
        "print(\"Add Email:\", student['email'])\n",
        "\n",
        "# Print the entire dictionary\n",
        "print(\"Entire Dictionary:\", student)\n",
        "\n"
      ],
      "metadata": {
        "colab": {
          "base_uri": "https://localhost:8080/"
        },
        "id": "ok1h5mJ-nTxY",
        "outputId": "a33908ab-7a37-4565-aa5e-be23a5f3f5bd"
      },
      "execution_count": null,
      "outputs": [
        {
          "output_type": "stream",
          "name": "stdout",
          "text": [
            "Student Name: Shagufta\n",
            "List of Course: ['Math', 'Science', 'History']\n",
            "Add Email: john@example.com\n",
            "Entire Dictionary: {'name': 'Shagufta', 'age': 30, 'grade': 'A', 'course': ['Math', 'Science', 'History'], 'email': 'john@example.com'}\n"
          ]
        }
      ]
    },
    {
      "cell_type": "markdown",
      "source": [
        "**Task2. Modify Dictionary Values**"
      ],
      "metadata": {
        "id": "vi637IzRqeQp"
      }
    },
    {
      "cell_type": "code",
      "source": [
        "# Change the student's age to 21\n",
        "student = {\n",
        "    \"name\": \"Shagufta\",\n",
        "    \"age\": 30,\n",
        "    \"grade\": \"A\",\n",
        "    \"course\": [\"Math\",\"Science\",\"History\"]\n",
        "}\n",
        "student['age'] = 21\n",
        "print('Updated age:', student['age'])\n",
        "\n",
        "# Add a new course \"Computer Science\" to the courses list\n",
        "student['course'].append(\"Computer Science\")\n",
        "print(\"Add Course:\", student['course'])\n",
        "\n",
        "# Update the grade to \"A+\"\n",
        "student['grade'] = \"A+\"\n",
        "print(\"Update Grade:\", student['grade'])\n",
        "\n",
        "# Store updated info in a new dictionary\n",
        "updated_info = {\n",
        "    \"name\" : student['name'],\n",
        "    \"age\" : student['age'],\n",
        "    \"grade\" : student['grade'],\n",
        "    \"course\" : student['course']\n",
        "}\n",
        "# Print the modified dictionary\n",
        "\n",
        "print(\"modified dictionary:\", updated_info)\n",
        "\n"
      ],
      "metadata": {
        "colab": {
          "base_uri": "https://localhost:8080/"
        },
        "id": "iGMsfSLlqhix",
        "outputId": "4395e77d-51f6-4995-8d59-2faca5431c33"
      },
      "execution_count": null,
      "outputs": [
        {
          "output_type": "stream",
          "name": "stdout",
          "text": [
            "Updated age: 21\n",
            "Add Course: ['Math', 'Science', 'History', 'Computer Science']\n",
            "Update Grade: A+\n",
            "modified dictionary: {'name': 'Shagufta', 'age': 21, 'grade': 'A+', 'course': ['Math', 'Science', 'History', 'Computer Science']}\n"
          ]
        }
      ]
    },
    {
      "cell_type": "markdown",
      "source": [
        "**Task 3. Dictionary Operations**"
      ],
      "metadata": {
        "id": "gOEMdbYusbFP"
      }
    },
    {
      "cell_type": "code",
      "source": [
        "# Create a second dictionary student_address with these key-value pairs:\n",
        "student_address ={\n",
        "    \"street\": \"123 College Ave\",\n",
        "    \"city\": \"New York\",\n",
        "    \"zip\": \"10001\"\n",
        "}\n",
        "# Combine both dictionaries into a new dictionary called student_info\n",
        "student_info = {**updated_info, **student_address}\n",
        "print(\"Combine Dictionary:\", student_info)\n",
        "\n",
        "# Remove the \"zip\" key from student_info\n",
        "del student_info['zip']\n",
        "print(\"Remove zip:\" , student_info)\n",
        "\n",
        "# Check if \"phone\" exists in the dictionary\n",
        "if \"phone\" in student_info:\n",
        "  print(\"Phone key is exist in student_info\")\n",
        "else:\n",
        "  print(\"Phone key is not exist in student_info\")\n",
        "\n",
        "# Print the final dictionary\n",
        "print(\"Final Dictionary:\" , student_info)"
      ],
      "metadata": {
        "id": "s9-Mtdhtslgu",
        "colab": {
          "base_uri": "https://localhost:8080/"
        },
        "outputId": "4741f8d7-593f-4847-e878-b7c098333a30"
      },
      "execution_count": null,
      "outputs": [
        {
          "output_type": "stream",
          "name": "stdout",
          "text": [
            "Combine Dictionary: {'name': 'Shagufta', 'age': 21, 'grade': 'A+', 'course': ['Math', 'Science', 'History', 'Computer Science'], 'street': '123 College Ave', 'city': 'New York', 'zip': '10001'}\n",
            "Remove zip: {'name': 'Shagufta', 'age': 21, 'grade': 'A+', 'course': ['Math', 'Science', 'History', 'Computer Science'], 'street': '123 College Ave', 'city': 'New York'}\n",
            "Phone key is not exist in student_info\n",
            "Final Dictionary: {'name': 'Shagufta', 'age': 21, 'grade': 'A+', 'course': ['Math', 'Science', 'History', 'Computer Science'], 'street': '123 College Ave', 'city': 'New York'}\n"
          ]
        }
      ]
    },
    {
      "cell_type": "markdown",
      "source": [
        "**Task 4. Dictionary Methods**"
      ],
      "metadata": {
        "id": "BXYzXu1u3lTL"
      }
    },
    {
      "cell_type": "code",
      "source": [
        "# Create a dictionary word_count with these key-value pairs:\n",
        "word_count = {\n",
        "    \"hello\": 5,\n",
        "    \"world\": 10,\n",
        "    \"python\": 15\n",
        "}\n",
        "# Get all keys and print them as a list\n",
        "keys = list(word_count.keys())\n",
        "print(\"Keys:\", keys)\n",
        "\n",
        "# Get all values and print them as a list\n",
        "values = list(word_count.values())\n",
        "print(\"Values:\" , values)\n",
        "\n",
        "# Get all key-value pairs and print them\n",
        "key_value_pairs = list(word_count.items())\n",
        "print(\"Key_values:\" , key_value_pairs)\n",
        "\n",
        "# Make a copy of the dictionary\n",
        "copy_word = word_count.copy()\n",
        "print(\"copy Dictionary:\" ,copy_word)\n",
        "\n",
        "# Clear the original dictionary\n",
        "clear_word = word_count.clear()\n",
        "print(\"Clear Dictionary:\" ,clear_word)\n",
        "\n",
        "# Print both dictionaries to verify one is empty and one is a copy\n",
        "print(\"Original Dictionary:\" ,word_count)\n",
        "print(\"Copy Dictionary:\" ,copy_word)\n"
      ],
      "metadata": {
        "colab": {
          "base_uri": "https://localhost:8080/"
        },
        "id": "Pjwbk_Cl3p8b",
        "outputId": "b38cab45-aba2-4aa3-bf28-c6558a7ed5b8"
      },
      "execution_count": null,
      "outputs": [
        {
          "output_type": "stream",
          "name": "stdout",
          "text": [
            "Keys: ['hello', 'world', 'python']\n",
            "Values: [5, 10, 15]\n",
            "Key_values: [('hello', 5), ('world', 10), ('python', 15)]\n",
            "copy Dictionary: {'hello': 5, 'world': 10, 'python': 15}\n",
            "Clear Dictionary: None\n",
            "Original Dictionary: {}\n",
            "Copy Dictionary: {'hello': 5, 'world': 10, 'python': 15}\n"
          ]
        }
      ]
    },
    {
      "cell_type": "markdown",
      "source": [
        "# **Shopping Discount Calculator**"
      ],
      "metadata": {
        "id": "U9lh6ljo9fDw"
      }
    },
    {
      "cell_type": "code",
      "source": [
        "# 1. Set up initial variables\n",
        "purchase_amount = float(input(\"Enter Purchase Amount: \"))\n",
        "is_loyalty_member: bool = True\n",
        "day_of_week: str = \"Saturday\"\n",
        "is_holiday_season: bool = True\n",
        "\n",
        "# 2. Initialize total discount and breakdown\n",
        "total_discount = 0\n",
        "discount_detail = {}\n",
        "\n",
        "# --- Discount Conditions ---\n",
        "\n",
        "# Base discount by purchase amount\n",
        "if purchase_amount > 100:\n",
        "    discount = 0.10\n",
        "    discount_amount = purchase_amount * discount\n",
        "    total_discount += discount_amount\n",
        "    discount_detail[\"10% Discount (over $100)\"] = discount_amount\n",
        "\n",
        "elif purchase_amount > 50:\n",
        "    discount = 0.05\n",
        "    discount_amount = purchase_amount * discount\n",
        "    total_discount += discount_amount\n",
        "    discount_detail[\"5% Discount (over $50)\"] = discount_amount\n",
        "\n",
        "# Loyalty member discount\n",
        "if is_loyalty_member:\n",
        "    discount = 0.05\n",
        "    discount_amount = purchase_amount * discount\n",
        "    total_discount += discount_amount\n",
        "    discount_detail[\"5% Loyalty Member Discount\"] = discount_amount\n",
        "\n",
        "# Weekend discount\n",
        "if day_of_week in [\"Saturday\", \"Sunday\"]:\n",
        "    discount = 0.02\n",
        "    discount_amount = purchase_amount * discount\n",
        "    total_discount += discount_amount\n",
        "    discount_detail[\"2% Weekend Discount\"] = discount_amount\n",
        "\n",
        "# Holiday season discount\n",
        "if is_holiday_season:\n",
        "    discount = 0.08\n",
        "    discount_amount = purchase_amount * discount\n",
        "    total_discount += discount_amount\n",
        "    discount_detail[\"8% Holiday Season Discount\"] = discount_amount\n",
        "\n",
        "# 3. Display Results\n",
        "print(\"\\nDiscount Breakdown:\")\n",
        "for reason, amount in discount_detail.items():\n",
        "    print(f\"{reason}: ${amount:.2f}\")\n",
        "\n",
        "final_price = purchase_amount - total_discount\n",
        "print(f\"\\nOriginal Price: ${purchase_amount:.2f}\")\n",
        "print(f\"Total Discount: ${total_discount:.2f}\")\n",
        "print(f\"Final Price after all discounts: ${final_price:.2f}\")\n",
        "\n",
        "\n",
        "\n"
      ],
      "metadata": {
        "colab": {
          "base_uri": "https://localhost:8080/"
        },
        "id": "DPgP6gq09jsh",
        "outputId": "b6c74cdd-c988-46bf-880f-309e2392bed7"
      },
      "execution_count": null,
      "outputs": [
        {
          "output_type": "stream",
          "name": "stdout",
          "text": [
            "Enter Purchase Amount: 150\n",
            "\n",
            "Discount Breakdown:\n",
            "10% Discount (over $100): $15.00\n",
            "5% Loyalty Member Discount: $7.50\n",
            "2% Weekend Discount: $3.00\n",
            "8% Holiday Season Discount: $12.00\n",
            "\n",
            "Original Price: $150.00\n",
            "Total Discount: $37.50\n",
            "Final Price after all discounts: $112.50\n"
          ]
        }
      ]
    },
    {
      "cell_type": "markdown",
      "source": [
        "# **For Loop Assignment - Number Patterns**\n",
        "**Pattern 1: Counting Numbers**"
      ],
      "metadata": {
        "id": "gIsIGFr-7Osa"
      }
    },
    {
      "cell_type": "code",
      "source": [
        "# print number from 1 to 10 on a single line\n",
        "for number in range(1, 11):\n",
        "  print(number, end=\" \")\n",
        "\n",
        "# Create a multiplication table for the number 5 (from 1 to 10).\n",
        "print(\"\\n multiplication Table for 5\")\n",
        "for number in range(1, 11):\n",
        "  print(f\"5 x {number} = {5 * number}\")"
      ],
      "metadata": {
        "colab": {
          "base_uri": "https://localhost:8080/"
        },
        "id": "7XzeLvaF7xFE",
        "outputId": "e5e4fcd9-3207-4e06-c0ff-5563aa0c9c29"
      },
      "execution_count": null,
      "outputs": [
        {
          "output_type": "stream",
          "name": "stdout",
          "text": [
            "1 2 3 4 5 6 7 8 9 10 \n",
            " multiplication Table for 5\n",
            "5 x 1 = 5\n",
            "5 x 2 = 10\n",
            "5 x 3 = 15\n",
            "5 x 4 = 20\n",
            "5 x 5 = 25\n",
            "5 x 6 = 30\n",
            "5 x 7 = 35\n",
            "5 x 8 = 40\n",
            "5 x 9 = 45\n",
            "5 x 10 = 50\n"
          ]
        }
      ]
    },
    {
      "cell_type": "markdown",
      "source": [
        "# **While Loop Assignment - Interactive Game**\n"
      ],
      "metadata": {
        "id": "TM3qatnG_Gde"
      }
    },
    {
      "cell_type": "code",
      "source": [
        "import random\n",
        "\n",
        "print(\"\\n Welcome to the Number Guessing Game🎮!\\n\")\n",
        "print(\"\\n 👩 User guess the number\")\n",
        "\n",
        "secret_number = random.randint(1, 50)\n",
        "print(\"I have a secret number can you guess 🤔it?\")\n",
        "\n",
        "while True:\n",
        "    try:\n",
        "      guess = int(input(\"Enter your guess: \"))\n",
        "\n",
        "      if guess > secret_number:\n",
        "        print(\"Your guess is too high!\")\n",
        "      elif guess < secret_number:\n",
        "       print(\"Your guess is too low!\")\n",
        "      else:\n",
        "       print(\"🎉congratulation! your guess is Right ✅!\")\n",
        "       break # Exit the loop when guess is right\n",
        "\n",
        "    except ValueError:\n",
        "     print(\"🚫 Please enter a valid number\")\n",
        "\n",
        "\n",
        "\n",
        "\n",
        "\n"
      ],
      "metadata": {
        "colab": {
          "base_uri": "https://localhost:8080/"
        },
        "id": "fvXu64hY_Tla",
        "outputId": "0caf2504-43b0-4e3f-a4c5-fc2036ff78f0"
      },
      "execution_count": null,
      "outputs": [
        {
          "output_type": "stream",
          "name": "stdout",
          "text": [
            "\n",
            " Welcome to the Number Guessing Game🎮!\n",
            "\n",
            "\n",
            " 👩 User guess the number\n",
            "I have a secret number can you guess 🤔it?\n",
            "Enter your guess: 25\n",
            "Your guess is too high!\n",
            "Enter your guess: 12\n",
            "Your guess is too high!\n",
            "Enter your guess: 5\n",
            "Your guess is too high!\n",
            "Enter your guess: 1\n",
            "🎉congratulation! your guess is Right ✅!\n"
          ]
        }
      ]
    },
    {
      "cell_type": "markdown",
      "source": [
        "# **Student Grade Management System**"
      ],
      "metadata": {
        "id": "KldT4OdhJ9N9"
      }
    },
    {
      "cell_type": "code",
      "source": [
        "# Create a list to store information about students\n",
        "students = [\n",
        "    {\n",
        "        \"name\": \"Shagufta\",\n",
        "        \"id\": 21,\n",
        "        \"grades\": {\n",
        "            \"Math\": \"A\",\n",
        "            \"Science\": \"B\",\n",
        "            \"History\": \"A\"\n",
        "        }\n",
        "    },\n",
        "    {\n",
        "        \"name\": \"Shahzain\",\n",
        "        \"id\": 22,\n",
        "        \"grades\": {\n",
        "            \"Math\": \"B\",\n",
        "            \"Science\": \"B\",\n",
        "            \"History\": \"C\"\n",
        "        }\n",
        "    },\n",
        "    {\n",
        "        \"name\": \"Khan\",\n",
        "        \"id\": 23,\n",
        "        \"grades\": {\n",
        "            \"Math\": \"C\",\n",
        "            \"Science\": \"A\",\n",
        "            \"History\": \"B\"\n",
        "        }\n",
        "    }\n",
        "]\n",
        "\n",
        "# Display all students with their grades\n",
        "for student in students:\n",
        "    print(f\"Student Name: {student['name']}\")\n",
        "    print(f\"Student ID: {student['id']}\")\n",
        "    print(\"Grades:\")\n",
        "    for subject, grade in student['grades'].items():\n",
        "        print(f\"{subject}: {grade}\")\n",
        "    print()\n",
        "\n",
        "\n"
      ],
      "metadata": {
        "colab": {
          "base_uri": "https://localhost:8080/"
        },
        "id": "HDqJUbcBKE_N",
        "outputId": "0384746f-8c44-48e8-e3bd-fc7985472e9e"
      },
      "execution_count": null,
      "outputs": [
        {
          "output_type": "stream",
          "name": "stdout",
          "text": [
            "Student Name: Shagufta\n",
            "Student ID: 21\n",
            "Grades:\n",
            "Math: A⭐\n",
            "Science: B\n",
            "History: A⭐\n",
            "\n",
            "Student Name: Shahzain\n",
            "Student ID: 22\n",
            "Grades:\n",
            "Math: B\n",
            "Science: B\n",
            "History: C\n",
            "\n",
            "Student Name: Khan\n",
            "Student ID: 23\n",
            "Grades:\n",
            "Math: C\n",
            "Science: A⭐\n",
            "History: B\n",
            "\n"
          ]
        }
      ]
    }
  ]
}